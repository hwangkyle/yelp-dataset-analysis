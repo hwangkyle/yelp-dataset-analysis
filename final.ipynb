{
 "cells": [
  {
   "cell_type": "code",
   "execution_count": 1,
   "id": "9f876a6b-1e76-4d46-9d85-d221fdcfc78a",
   "metadata": {},
   "outputs": [],
   "source": [
    "import json\n",
    "import pandas as pd\n",
    "from textblob import TextBlob\n",
    "import collections"
   ]
  },
  {
   "cell_type": "code",
   "execution_count": 2,
   "id": "5ed7b7f9-9fde-4b92-b731-bcdc8b76858e",
   "metadata": {},
   "outputs": [],
   "source": [
    "jstrs = open(\"./yelp_dataset/yelp_academic_dataset_business.json\", encoding='utf-8').readlines()\n",
    "jdata = []\n",
    "for s in jstrs:\n",
    "    jdata.append(json.loads(s))\n",
    "bdf = pd.DataFrame.from_records(jdata)\n",
    "jstrs = open(\"./yelp_dataset/yelp_academic_dataset_tip.json\", encoding='utf-8').readlines()\n",
    "jdata = []\n",
    "for s in jstrs:\n",
    "    jdata.append(json.loads(s))\n",
    "tdf = pd.DataFrame.from_records(jdata)"
   ]
  },
  {
   "cell_type": "code",
   "execution_count": 3,
   "id": "3f77e7dd-6585-4857-96b3-ec7c3f96c204",
   "metadata": {},
   "outputs": [],
   "source": [
    "df = pd.merge(bdf, tdf, on='business_id')"
   ]
  },
  {
   "cell_type": "code",
   "execution_count": 4,
   "id": "f82bf607-e96c-45e4-a1e6-a66f4f0b180f",
   "metadata": {},
   "outputs": [],
   "source": [
    "df['sentiment'] = df[['text']].applymap(lambda x: TextBlob(x).sentiment.polarity)"
   ]
  },
  {
   "cell_type": "code",
   "execution_count": 5,
   "id": "0e5ae50b-32c9-4b6a-ae77-94367019a540",
   "metadata": {},
   "outputs": [],
   "source": [
    "df = df[df['categories'].str.find('Restaurants')!=-1]"
   ]
  },
  {
   "cell_type": "code",
   "execution_count": 24,
   "id": "fb9d6115-dfa3-43ab-83e0-25474a50e9f9",
   "metadata": {},
   "outputs": [
    {
     "data": {
      "text/html": [
       "<div>\n",
       "<style scoped>\n",
       "    .dataframe tbody tr th:only-of-type {\n",
       "        vertical-align: middle;\n",
       "    }\n",
       "\n",
       "    .dataframe tbody tr th {\n",
       "        vertical-align: top;\n",
       "    }\n",
       "\n",
       "    .dataframe thead th {\n",
       "        text-align: right;\n",
       "    }\n",
       "</style>\n",
       "<table border=\"1\" class=\"dataframe\">\n",
       "  <thead>\n",
       "    <tr style=\"text-align: right;\">\n",
       "      <th></th>\n",
       "      <th>business_id</th>\n",
       "      <th>name</th>\n",
       "      <th>address</th>\n",
       "      <th>city</th>\n",
       "      <th>state</th>\n",
       "      <th>postal_code</th>\n",
       "      <th>latitude</th>\n",
       "      <th>longitude</th>\n",
       "      <th>stars</th>\n",
       "      <th>review_count</th>\n",
       "      <th>is_open</th>\n",
       "      <th>attributes</th>\n",
       "      <th>categories</th>\n",
       "      <th>hours</th>\n",
       "      <th>user_id</th>\n",
       "      <th>text</th>\n",
       "      <th>date</th>\n",
       "      <th>compliment_count</th>\n",
       "      <th>sentiment</th>\n",
       "    </tr>\n",
       "  </thead>\n",
       "  <tbody>\n",
       "    <tr>\n",
       "      <th>0</th>\n",
       "      <td>6iYb2HFDywm3zjuRg0shjw</td>\n",
       "      <td>Oskar Blues Taproom</td>\n",
       "      <td>921 Pearl St</td>\n",
       "      <td>Boulder</td>\n",
       "      <td>CO</td>\n",
       "      <td>80302</td>\n",
       "      <td>40.017544</td>\n",
       "      <td>-105.283348</td>\n",
       "      <td>4.0</td>\n",
       "      <td>86</td>\n",
       "      <td>1</td>\n",
       "      <td>{'RestaurantsTableService': 'True', 'WiFi': 'u...</td>\n",
       "      <td>Gastropubs, Food, Beer Gardens, Restaurants, B...</td>\n",
       "      <td>{'Monday': '11:0-23:0', 'Tuesday': '11:0-23:0'...</td>\n",
       "      <td>bgdTaNn0sGiUfIRrH5GEjg</td>\n",
       "      <td>Good beers. Bad bartender. Stay away from Brian.</td>\n",
       "      <td>2019-06-07 22:24:44</td>\n",
       "      <td>0</td>\n",
       "      <td>5.551115e-17</td>\n",
       "    </tr>\n",
       "    <tr>\n",
       "      <th>1</th>\n",
       "      <td>6iYb2HFDywm3zjuRg0shjw</td>\n",
       "      <td>Oskar Blues Taproom</td>\n",
       "      <td>921 Pearl St</td>\n",
       "      <td>Boulder</td>\n",
       "      <td>CO</td>\n",
       "      <td>80302</td>\n",
       "      <td>40.017544</td>\n",
       "      <td>-105.283348</td>\n",
       "      <td>4.0</td>\n",
       "      <td>86</td>\n",
       "      <td>1</td>\n",
       "      <td>{'RestaurantsTableService': 'True', 'WiFi': 'u...</td>\n",
       "      <td>Gastropubs, Food, Beer Gardens, Restaurants, B...</td>\n",
       "      <td>{'Monday': '11:0-23:0', 'Tuesday': '11:0-23:0'...</td>\n",
       "      <td>nzj6O3Z9H-rTgucdvblOUA</td>\n",
       "      <td>I enjoy this location. Great beers. Great serv...</td>\n",
       "      <td>2019-03-06 22:53:59</td>\n",
       "      <td>0</td>\n",
       "      <td>6.666667e-01</td>\n",
       "    </tr>\n",
       "    <tr>\n",
       "      <th>2</th>\n",
       "      <td>6iYb2HFDywm3zjuRg0shjw</td>\n",
       "      <td>Oskar Blues Taproom</td>\n",
       "      <td>921 Pearl St</td>\n",
       "      <td>Boulder</td>\n",
       "      <td>CO</td>\n",
       "      <td>80302</td>\n",
       "      <td>40.017544</td>\n",
       "      <td>-105.283348</td>\n",
       "      <td>4.0</td>\n",
       "      <td>86</td>\n",
       "      <td>1</td>\n",
       "      <td>{'RestaurantsTableService': 'True', 'WiFi': 'u...</td>\n",
       "      <td>Gastropubs, Food, Beer Gardens, Restaurants, B...</td>\n",
       "      <td>{'Monday': '11:0-23:0', 'Tuesday': '11:0-23:0'...</td>\n",
       "      <td>XyVyTIkPm9Nqz5VZ9nYX9A</td>\n",
       "      <td>Live music every week! Beer menus not yet prin...</td>\n",
       "      <td>2017-09-12 01:40:51</td>\n",
       "      <td>0</td>\n",
       "      <td>2.130682e-01</td>\n",
       "    </tr>\n",
       "    <tr>\n",
       "      <th>3</th>\n",
       "      <td>6iYb2HFDywm3zjuRg0shjw</td>\n",
       "      <td>Oskar Blues Taproom</td>\n",
       "      <td>921 Pearl St</td>\n",
       "      <td>Boulder</td>\n",
       "      <td>CO</td>\n",
       "      <td>80302</td>\n",
       "      <td>40.017544</td>\n",
       "      <td>-105.283348</td>\n",
       "      <td>4.0</td>\n",
       "      <td>86</td>\n",
       "      <td>1</td>\n",
       "      <td>{'RestaurantsTableService': 'True', 'WiFi': 'u...</td>\n",
       "      <td>Gastropubs, Food, Beer Gardens, Restaurants, B...</td>\n",
       "      <td>{'Monday': '11:0-23:0', 'Tuesday': '11:0-23:0'...</td>\n",
       "      <td>Mp27LHWQy_RlbU56HJ5eHg</td>\n",
       "      <td>Good food. Good crowd. The ranch taste very si...</td>\n",
       "      <td>2017-10-14 02:36:02</td>\n",
       "      <td>0</td>\n",
       "      <td>3.500000e-01</td>\n",
       "    </tr>\n",
       "    <tr>\n",
       "      <th>4</th>\n",
       "      <td>6iYb2HFDywm3zjuRg0shjw</td>\n",
       "      <td>Oskar Blues Taproom</td>\n",
       "      <td>921 Pearl St</td>\n",
       "      <td>Boulder</td>\n",
       "      <td>CO</td>\n",
       "      <td>80302</td>\n",
       "      <td>40.017544</td>\n",
       "      <td>-105.283348</td>\n",
       "      <td>4.0</td>\n",
       "      <td>86</td>\n",
       "      <td>1</td>\n",
       "      <td>{'RestaurantsTableService': 'True', 'WiFi': 'u...</td>\n",
       "      <td>Gastropubs, Food, Beer Gardens, Restaurants, B...</td>\n",
       "      <td>{'Monday': '11:0-23:0', 'Tuesday': '11:0-23:0'...</td>\n",
       "      <td>XyVyTIkPm9Nqz5VZ9nYX9A</td>\n",
       "      <td>The newest Oskar Blues opens this coming Monda...</td>\n",
       "      <td>2017-09-09 04:42:34</td>\n",
       "      <td>0</td>\n",
       "      <td>0.000000e+00</td>\n",
       "    </tr>\n",
       "    <tr>\n",
       "      <th>...</th>\n",
       "      <td>...</td>\n",
       "      <td>...</td>\n",
       "      <td>...</td>\n",
       "      <td>...</td>\n",
       "      <td>...</td>\n",
       "      <td>...</td>\n",
       "      <td>...</td>\n",
       "      <td>...</td>\n",
       "      <td>...</td>\n",
       "      <td>...</td>\n",
       "      <td>...</td>\n",
       "      <td>...</td>\n",
       "      <td>...</td>\n",
       "      <td>...</td>\n",
       "      <td>...</td>\n",
       "      <td>...</td>\n",
       "      <td>...</td>\n",
       "      <td>...</td>\n",
       "      <td>...</td>\n",
       "    </tr>\n",
       "    <tr>\n",
       "      <th>1162114</th>\n",
       "      <td>ngmLL5Y5OT-bYHKU0kKrYA</td>\n",
       "      <td>Zora Grille</td>\n",
       "      <td>1370 E Altamonte Dr</td>\n",
       "      <td>Altamonte Springs</td>\n",
       "      <td>FL</td>\n",
       "      <td>32701</td>\n",
       "      <td>28.663047</td>\n",
       "      <td>-81.346728</td>\n",
       "      <td>4.5</td>\n",
       "      <td>82</td>\n",
       "      <td>0</td>\n",
       "      <td>{'RestaurantsReservations': 'True', 'OutdoorSe...</td>\n",
       "      <td>Restaurants, Middle Eastern, Mediterranean, Pe...</td>\n",
       "      <td>{'Tuesday': '17:0-21:0', 'Wednesday': '17:0-21...</td>\n",
       "      <td>o9zPD1AXgvz9AU3oW8ktJg</td>\n",
       "      <td>The shish kabab is the best. Make sure to try ...</td>\n",
       "      <td>2015-07-10 00:39:00</td>\n",
       "      <td>0</td>\n",
       "      <td>7.500000e-01</td>\n",
       "    </tr>\n",
       "    <tr>\n",
       "      <th>1162115</th>\n",
       "      <td>ngmLL5Y5OT-bYHKU0kKrYA</td>\n",
       "      <td>Zora Grille</td>\n",
       "      <td>1370 E Altamonte Dr</td>\n",
       "      <td>Altamonte Springs</td>\n",
       "      <td>FL</td>\n",
       "      <td>32701</td>\n",
       "      <td>28.663047</td>\n",
       "      <td>-81.346728</td>\n",
       "      <td>4.5</td>\n",
       "      <td>82</td>\n",
       "      <td>0</td>\n",
       "      <td>{'RestaurantsReservations': 'True', 'OutdoorSe...</td>\n",
       "      <td>Restaurants, Middle Eastern, Mediterranean, Pe...</td>\n",
       "      <td>{'Tuesday': '17:0-21:0', 'Wednesday': '17:0-21...</td>\n",
       "      <td>SOfAvE-pfMYhLxKt8lNIRA</td>\n",
       "      <td>Excellent Mediterranean food!  Just like in Bo...</td>\n",
       "      <td>2016-04-03 00:04:31</td>\n",
       "      <td>0</td>\n",
       "      <td>1.000000e+00</td>\n",
       "    </tr>\n",
       "    <tr>\n",
       "      <th>1162116</th>\n",
       "      <td>ngmLL5Y5OT-bYHKU0kKrYA</td>\n",
       "      <td>Zora Grille</td>\n",
       "      <td>1370 E Altamonte Dr</td>\n",
       "      <td>Altamonte Springs</td>\n",
       "      <td>FL</td>\n",
       "      <td>32701</td>\n",
       "      <td>28.663047</td>\n",
       "      <td>-81.346728</td>\n",
       "      <td>4.5</td>\n",
       "      <td>82</td>\n",
       "      <td>0</td>\n",
       "      <td>{'RestaurantsReservations': 'True', 'OutdoorSe...</td>\n",
       "      <td>Restaurants, Middle Eastern, Mediterranean, Pe...</td>\n",
       "      <td>{'Tuesday': '17:0-21:0', 'Wednesday': '17:0-21...</td>\n",
       "      <td>fB1b3BCcj2CGNQ5PF4D3Sw</td>\n",
       "      <td>Exceptional taste from real charcoal. We had t...</td>\n",
       "      <td>2015-09-12 23:38:14</td>\n",
       "      <td>0</td>\n",
       "      <td>4.583333e-01</td>\n",
       "    </tr>\n",
       "    <tr>\n",
       "      <th>1162117</th>\n",
       "      <td>ngmLL5Y5OT-bYHKU0kKrYA</td>\n",
       "      <td>Zora Grille</td>\n",
       "      <td>1370 E Altamonte Dr</td>\n",
       "      <td>Altamonte Springs</td>\n",
       "      <td>FL</td>\n",
       "      <td>32701</td>\n",
       "      <td>28.663047</td>\n",
       "      <td>-81.346728</td>\n",
       "      <td>4.5</td>\n",
       "      <td>82</td>\n",
       "      <td>0</td>\n",
       "      <td>{'RestaurantsReservations': 'True', 'OutdoorSe...</td>\n",
       "      <td>Restaurants, Middle Eastern, Mediterranean, Pe...</td>\n",
       "      <td>{'Tuesday': '17:0-21:0', 'Wednesday': '17:0-21...</td>\n",
       "      <td>huT88nmFbZYs5nlKEqsazA</td>\n",
       "      <td>Great food!!!</td>\n",
       "      <td>2016-04-03 00:05:10</td>\n",
       "      <td>0</td>\n",
       "      <td>1.000000e+00</td>\n",
       "    </tr>\n",
       "    <tr>\n",
       "      <th>1162118</th>\n",
       "      <td>ngmLL5Y5OT-bYHKU0kKrYA</td>\n",
       "      <td>Zora Grille</td>\n",
       "      <td>1370 E Altamonte Dr</td>\n",
       "      <td>Altamonte Springs</td>\n",
       "      <td>FL</td>\n",
       "      <td>32701</td>\n",
       "      <td>28.663047</td>\n",
       "      <td>-81.346728</td>\n",
       "      <td>4.5</td>\n",
       "      <td>82</td>\n",
       "      <td>0</td>\n",
       "      <td>{'RestaurantsReservations': 'True', 'OutdoorSe...</td>\n",
       "      <td>Restaurants, Middle Eastern, Mediterranean, Pe...</td>\n",
       "      <td>{'Tuesday': '17:0-21:0', 'Wednesday': '17:0-21...</td>\n",
       "      <td>WvYKk3gUkCaLRgUBE7H1dw</td>\n",
       "      <td>Stopped by on a whim and so glad that we did!!...</td>\n",
       "      <td>2016-06-01 01:01:27</td>\n",
       "      <td>0</td>\n",
       "      <td>5.156250e-01</td>\n",
       "    </tr>\n",
       "  </tbody>\n",
       "</table>\n",
       "<p>810621 rows × 19 columns</p>\n",
       "</div>"
      ],
      "text/plain": [
       "                    business_id                 name              address  \\\n",
       "0        6iYb2HFDywm3zjuRg0shjw  Oskar Blues Taproom         921 Pearl St   \n",
       "1        6iYb2HFDywm3zjuRg0shjw  Oskar Blues Taproom         921 Pearl St   \n",
       "2        6iYb2HFDywm3zjuRg0shjw  Oskar Blues Taproom         921 Pearl St   \n",
       "3        6iYb2HFDywm3zjuRg0shjw  Oskar Blues Taproom         921 Pearl St   \n",
       "4        6iYb2HFDywm3zjuRg0shjw  Oskar Blues Taproom         921 Pearl St   \n",
       "...                         ...                  ...                  ...   \n",
       "1162114  ngmLL5Y5OT-bYHKU0kKrYA          Zora Grille  1370 E Altamonte Dr   \n",
       "1162115  ngmLL5Y5OT-bYHKU0kKrYA          Zora Grille  1370 E Altamonte Dr   \n",
       "1162116  ngmLL5Y5OT-bYHKU0kKrYA          Zora Grille  1370 E Altamonte Dr   \n",
       "1162117  ngmLL5Y5OT-bYHKU0kKrYA          Zora Grille  1370 E Altamonte Dr   \n",
       "1162118  ngmLL5Y5OT-bYHKU0kKrYA          Zora Grille  1370 E Altamonte Dr   \n",
       "\n",
       "                      city state postal_code   latitude   longitude  stars  \\\n",
       "0                  Boulder    CO       80302  40.017544 -105.283348    4.0   \n",
       "1                  Boulder    CO       80302  40.017544 -105.283348    4.0   \n",
       "2                  Boulder    CO       80302  40.017544 -105.283348    4.0   \n",
       "3                  Boulder    CO       80302  40.017544 -105.283348    4.0   \n",
       "4                  Boulder    CO       80302  40.017544 -105.283348    4.0   \n",
       "...                    ...   ...         ...        ...         ...    ...   \n",
       "1162114  Altamonte Springs    FL       32701  28.663047  -81.346728    4.5   \n",
       "1162115  Altamonte Springs    FL       32701  28.663047  -81.346728    4.5   \n",
       "1162116  Altamonte Springs    FL       32701  28.663047  -81.346728    4.5   \n",
       "1162117  Altamonte Springs    FL       32701  28.663047  -81.346728    4.5   \n",
       "1162118  Altamonte Springs    FL       32701  28.663047  -81.346728    4.5   \n",
       "\n",
       "         review_count  is_open  \\\n",
       "0                  86        1   \n",
       "1                  86        1   \n",
       "2                  86        1   \n",
       "3                  86        1   \n",
       "4                  86        1   \n",
       "...               ...      ...   \n",
       "1162114            82        0   \n",
       "1162115            82        0   \n",
       "1162116            82        0   \n",
       "1162117            82        0   \n",
       "1162118            82        0   \n",
       "\n",
       "                                                attributes  \\\n",
       "0        {'RestaurantsTableService': 'True', 'WiFi': 'u...   \n",
       "1        {'RestaurantsTableService': 'True', 'WiFi': 'u...   \n",
       "2        {'RestaurantsTableService': 'True', 'WiFi': 'u...   \n",
       "3        {'RestaurantsTableService': 'True', 'WiFi': 'u...   \n",
       "4        {'RestaurantsTableService': 'True', 'WiFi': 'u...   \n",
       "...                                                    ...   \n",
       "1162114  {'RestaurantsReservations': 'True', 'OutdoorSe...   \n",
       "1162115  {'RestaurantsReservations': 'True', 'OutdoorSe...   \n",
       "1162116  {'RestaurantsReservations': 'True', 'OutdoorSe...   \n",
       "1162117  {'RestaurantsReservations': 'True', 'OutdoorSe...   \n",
       "1162118  {'RestaurantsReservations': 'True', 'OutdoorSe...   \n",
       "\n",
       "                                                categories  \\\n",
       "0        Gastropubs, Food, Beer Gardens, Restaurants, B...   \n",
       "1        Gastropubs, Food, Beer Gardens, Restaurants, B...   \n",
       "2        Gastropubs, Food, Beer Gardens, Restaurants, B...   \n",
       "3        Gastropubs, Food, Beer Gardens, Restaurants, B...   \n",
       "4        Gastropubs, Food, Beer Gardens, Restaurants, B...   \n",
       "...                                                    ...   \n",
       "1162114  Restaurants, Middle Eastern, Mediterranean, Pe...   \n",
       "1162115  Restaurants, Middle Eastern, Mediterranean, Pe...   \n",
       "1162116  Restaurants, Middle Eastern, Mediterranean, Pe...   \n",
       "1162117  Restaurants, Middle Eastern, Mediterranean, Pe...   \n",
       "1162118  Restaurants, Middle Eastern, Mediterranean, Pe...   \n",
       "\n",
       "                                                     hours  \\\n",
       "0        {'Monday': '11:0-23:0', 'Tuesday': '11:0-23:0'...   \n",
       "1        {'Monday': '11:0-23:0', 'Tuesday': '11:0-23:0'...   \n",
       "2        {'Monday': '11:0-23:0', 'Tuesday': '11:0-23:0'...   \n",
       "3        {'Monday': '11:0-23:0', 'Tuesday': '11:0-23:0'...   \n",
       "4        {'Monday': '11:0-23:0', 'Tuesday': '11:0-23:0'...   \n",
       "...                                                    ...   \n",
       "1162114  {'Tuesday': '17:0-21:0', 'Wednesday': '17:0-21...   \n",
       "1162115  {'Tuesday': '17:0-21:0', 'Wednesday': '17:0-21...   \n",
       "1162116  {'Tuesday': '17:0-21:0', 'Wednesday': '17:0-21...   \n",
       "1162117  {'Tuesday': '17:0-21:0', 'Wednesday': '17:0-21...   \n",
       "1162118  {'Tuesday': '17:0-21:0', 'Wednesday': '17:0-21...   \n",
       "\n",
       "                        user_id  \\\n",
       "0        bgdTaNn0sGiUfIRrH5GEjg   \n",
       "1        nzj6O3Z9H-rTgucdvblOUA   \n",
       "2        XyVyTIkPm9Nqz5VZ9nYX9A   \n",
       "3        Mp27LHWQy_RlbU56HJ5eHg   \n",
       "4        XyVyTIkPm9Nqz5VZ9nYX9A   \n",
       "...                         ...   \n",
       "1162114  o9zPD1AXgvz9AU3oW8ktJg   \n",
       "1162115  SOfAvE-pfMYhLxKt8lNIRA   \n",
       "1162116  fB1b3BCcj2CGNQ5PF4D3Sw   \n",
       "1162117  huT88nmFbZYs5nlKEqsazA   \n",
       "1162118  WvYKk3gUkCaLRgUBE7H1dw   \n",
       "\n",
       "                                                      text  \\\n",
       "0         Good beers. Bad bartender. Stay away from Brian.   \n",
       "1        I enjoy this location. Great beers. Great serv...   \n",
       "2        Live music every week! Beer menus not yet prin...   \n",
       "3        Good food. Good crowd. The ranch taste very si...   \n",
       "4        The newest Oskar Blues opens this coming Monda...   \n",
       "...                                                    ...   \n",
       "1162114  The shish kabab is the best. Make sure to try ...   \n",
       "1162115  Excellent Mediterranean food!  Just like in Bo...   \n",
       "1162116  Exceptional taste from real charcoal. We had t...   \n",
       "1162117                                      Great food!!!   \n",
       "1162118  Stopped by on a whim and so glad that we did!!...   \n",
       "\n",
       "                        date  compliment_count     sentiment  \n",
       "0        2019-06-07 22:24:44                 0  5.551115e-17  \n",
       "1        2019-03-06 22:53:59                 0  6.666667e-01  \n",
       "2        2017-09-12 01:40:51                 0  2.130682e-01  \n",
       "3        2017-10-14 02:36:02                 0  3.500000e-01  \n",
       "4        2017-09-09 04:42:34                 0  0.000000e+00  \n",
       "...                      ...               ...           ...  \n",
       "1162114  2015-07-10 00:39:00                 0  7.500000e-01  \n",
       "1162115  2016-04-03 00:04:31                 0  1.000000e+00  \n",
       "1162116  2015-09-12 23:38:14                 0  4.583333e-01  \n",
       "1162117  2016-04-03 00:05:10                 0  1.000000e+00  \n",
       "1162118  2016-06-01 01:01:27                 0  5.156250e-01  \n",
       "\n",
       "[810621 rows x 19 columns]"
      ]
     },
     "execution_count": 24,
     "metadata": {},
     "output_type": "execute_result"
    }
   ],
   "source": [
    "df"
   ]
  },
  {
   "cell_type": "code",
   "execution_count": 6,
   "id": "ff7f2cc1-10d9-494b-9a0d-650e778a5f83",
   "metadata": {},
   "outputs": [],
   "source": [
    "ave_sentiment, ave_stars = df['sentiment'].mean(), df['stars'].mean()"
   ]
  },
  {
   "cell_type": "code",
   "execution_count": 8,
   "id": "010a927e-d98a-4412-a0a5-302fffc2c236",
   "metadata": {},
   "outputs": [
    {
     "name": "stdout",
     "output_type": "stream",
     "text": [
      "0.30447438942481353 3.7192276045155506\n"
     ]
    }
   ],
   "source": [
    "print(ave_sentiment, ave_stars)"
   ]
  },
  {
   "cell_type": "code",
   "execution_count": 11,
   "id": "6b6b6e93-e0f4-47e4-a66b-a85f1f39c88b",
   "metadata": {},
   "outputs": [
    {
     "data": {
      "text/plain": [
       "3.6089487788496273"
      ]
     },
     "execution_count": 11,
     "metadata": {},
     "output_type": "execute_result"
    }
   ],
   "source": [
    "((ave_sentiment+1)*2)+1"
   ]
  },
  {
   "cell_type": "code",
   "execution_count": 79,
   "id": "19757888-7671-4368-9ac4-0c0fa5066024",
   "metadata": {},
   "outputs": [],
   "source": [
    "st = ['CO','OR','FL','GA','OH','TX','MA','WA']"
   ]
  },
  {
   "cell_type": "code",
   "execution_count": 80,
   "id": "fdaab8b4-561d-4551-9e4d-0ed68d38dfd8",
   "metadata": {},
   "outputs": [
    {
     "name": "stdout",
     "output_type": "stream",
     "text": [
      "('CO', 0.3462301354825549, 3.76864990877762)\n",
      "('OR', 0.3144303213495039, 3.823561975384932)\n",
      "('FL', 0.3314675773201205, 3.7625546569352664)\n",
      "('GA', 0.3031194462521561, 3.660648919210182)\n",
      "('OH', 0.31123593070863687, 3.683101898436976)\n",
      "('TX', 0.2896795896577381, 3.7776609873369176)\n",
      "('MA', 0.29567420642086933, 3.6483021552794614)\n",
      "('WA', 0.3550184366724675, 3.619757453259222)\n"
     ]
    }
   ],
   "source": [
    "state_ss = []\n",
    "for s in st:\n",
    "    state_ss.append((s, df[df['state']==s]['sentiment'].mean(), df[df['state']==s]['stars'].mean()))\n",
    "    print(state_ss[-1])"
   ]
  },
  {
   "cell_type": "code",
   "execution_count": 81,
   "id": "fe74c030-2aba-40c4-8ac6-0d022ddd5658",
   "metadata": {},
   "outputs": [],
   "source": [
    "import plotly.graph_objects as go\n",
    "import plotly"
   ]
  },
  {
   "cell_type": "code",
   "execution_count": 82,
   "id": "6e665b73-da31-48b7-9626-76e8070e7e81",
   "metadata": {},
   "outputs": [
    {
     "data": {
      "text/plain": [
       "'map.html'"
      ]
     },
     "execution_count": 82,
     "metadata": {},
     "output_type": "execute_result"
    }
   ],
   "source": [
    "fig = go.Figure(data=go.Choropleth(\n",
    "    locations = st, # Spatial coordinates\n",
    "    z = [ss[1] for ss in state_ss], # Data to be color-coded\n",
    "    locationmode = 'USA-states', # set of locations match entries in `locations`\n",
    "    colorscale = 'Reds',\n",
    "    colorbar_title = \"Sentiment\",\n",
    "))\n",
    "\n",
    "fig.update_layout(\n",
    "    title_text = 'Average Sentiment of Restaurant Reviews by State',\n",
    "    geo_scope='usa', # limite map scope to USA\n",
    ")\n",
    "\n",
    "plotly.offline.plot(fig, filename='map.html')"
   ]
  },
  {
   "cell_type": "code",
   "execution_count": 33,
   "id": "f28513cd-cc84-4d98-9f99-b8fb6255b4e0",
   "metadata": {},
   "outputs": [],
   "source": [
    "sentty = df[df['review_count']>50].groupby('business_id')['sentiment'].mean()"
   ]
  },
  {
   "cell_type": "code",
   "execution_count": 34,
   "id": "fad9d9ef-4639-4a76-b7a4-d88e2ebaec72",
   "metadata": {},
   "outputs": [],
   "source": [
    "starry = df[df['review_count']>50].groupby('business_id')['stars'].mean()"
   ]
  },
  {
   "cell_type": "code",
   "execution_count": 27,
   "id": "bcf107e4-8013-4bf3-8667-e9090936ee06",
   "metadata": {},
   "outputs": [
    {
     "data": {
      "text/plain": [
       "business_id\n",
       "--164t1nclzzmca7eDiJMw    4.0\n",
       "--6COJIAjkQwSUZci_4PJQ    4.0\n",
       "--Q3mAcX9t63f7Xcbn7LVA    4.5\n",
       "--UNNdnHRhsyFUbDgumdtQ    4.5\n",
       "--bbZa1KPYSmW0X4o3TUQw    4.0\n",
       "                         ... \n",
       "zzWxfdbWOnPzP5CxiZ0TvQ    3.0\n",
       "zzcdycb7S42VnnZkwE4yNA    2.0\n",
       "zzin1d1oHi81GuI0ufo1VA    3.5\n",
       "zzlkjDG9Rv8Jn-vSolMgyw    3.5\n",
       "zzpmoTVq4yn86U7ArHyFBQ    4.0\n",
       "Name: stars, Length: 40451, dtype: float64"
      ]
     },
     "execution_count": 27,
     "metadata": {},
     "output_type": "execute_result"
    }
   ],
   "source": [
    "starry"
   ]
  },
  {
   "cell_type": "code",
   "execution_count": 28,
   "id": "fa4e306c-7ea5-4408-bb0d-f4af52307bf5",
   "metadata": {},
   "outputs": [
    {
     "data": {
      "text/plain": [
       "business_id\n",
       "--164t1nclzzmca7eDiJMw    3.056642\n",
       "--6COJIAjkQwSUZci_4PJQ    3.857297\n",
       "--Q3mAcX9t63f7Xcbn7LVA    4.523611\n",
       "--UNNdnHRhsyFUbDgumdtQ    3.508540\n",
       "--bbZa1KPYSmW0X4o3TUQw    4.833333\n",
       "                            ...   \n",
       "zzWxfdbWOnPzP5CxiZ0TvQ    3.500000\n",
       "zzcdycb7S42VnnZkwE4yNA    2.756667\n",
       "zzin1d1oHi81GuI0ufo1VA    3.707461\n",
       "zzlkjDG9Rv8Jn-vSolMgyw    3.798690\n",
       "zzpmoTVq4yn86U7ArHyFBQ    5.000000\n",
       "Name: sentiment, Length: 40451, dtype: float64"
      ]
     },
     "execution_count": 28,
     "metadata": {},
     "output_type": "execute_result"
    }
   ],
   "source": [
    "2*sentty + 3"
   ]
  },
  {
   "cell_type": "code",
   "execution_count": 22,
   "id": "82d22bfb-38b0-4100-9cde-cf00c6969a78",
   "metadata": {},
   "outputs": [],
   "source": [
    "import matplotlib.pyplot as plt"
   ]
  },
  {
   "cell_type": "code",
   "execution_count": 35,
   "id": "f5989003-2b49-4bf5-99cf-e4c7e1446d4a",
   "metadata": {},
   "outputs": [
    {
     "data": {
      "text/plain": [
       "<matplotlib.collections.PathCollection at 0x1528e9bd648>"
      ]
     },
     "execution_count": 35,
     "metadata": {},
     "output_type": "execute_result"
    },
    {
     "data": {
      "image/png": "[encoded data removed]",
      "text/plain": [
       "<Figure size 432x288 with 1 Axes>"
      ]
     },
     "metadata": {
      "needs_background": "light"
     },
     "output_type": "display_data"
    }
   ],
   "source": [
    "plt.scatter(starry, 2*sentty+3)"
   ]
  },
  {
   "cell_type": "code",
   "execution_count": 36,
   "id": "7a55996f-a093-47b5-90e3-f2c07c6ee7f2",
   "metadata": {},
   "outputs": [],
   "source": [
    "from apyori import apriori\n",
    "import re"
   ]
  },
  {
   "cell_type": "code",
   "execution_count": 38,
   "id": "119547fa-3908-4c9a-bd1b-3b1b1c1ed3bb",
   "metadata": {},
   "outputs": [],
   "source": [
    "bdf['is_restaurant'] = [True if d != -1 else False for d in bdf['categories'].str.find('Restaurants')]"
   ]
  },
  {
   "cell_type": "code",
   "execution_count": 44,
   "id": "4beab35a-1233-4748-8810-719dbfd0960e",
   "metadata": {},
   "outputs": [],
   "source": [
    "cuis = ['American','Chinese','Indian','Italian','Korean','Thai']\n",
    "for c in cuis:\n",
    "    bdf[c] = [True if d != -1 else False for d in bdf['categories'].str.find(c)]"
   ]
  },
  {
   "cell_type": "code",
   "execution_count": 83,
   "id": "759175bc-a72b-4a51-ad54-589b9b8b86de",
   "metadata": {},
   "outputs": [],
   "source": [
    "for c in cuis:\n",
    "    df[c] = [True if d != -1 else False for d in df['categories'].str.find(c)]"
   ]
  },
  {
   "cell_type": "code",
   "execution_count": 86,
   "id": "eeddc07f-8d0f-4a4a-85da-907395ccd082",
   "metadata": {},
   "outputs": [],
   "source": [
    "for c in cuis:\n",
    "    cuis_ss = []\n",
    "    for s in st:\n",
    "        cuis_ss.append((s, df[(df['state']==s)&(df[c])]['sentiment'].mean(), df[(df['state']==s)&(df[c])]['stars'].mean()))\n",
    "    fig = go.Figure(data=go.Choropleth(\n",
    "        locations = st, # Spatial coordinates\n",
    "        z = [ss[1] for ss in cuis_ss], # Data to be color-coded\n",
    "        locationmode = 'USA-states', # set of locations match entries in `locations`\n",
    "        colorscale = 'Reds',\n",
    "        colorbar_title = \"Sentiment\",\n",
    "    ))\n",
    "\n",
    "    fig.update_layout(\n",
    "        title_text = 'Average Sentiment of '+c+' Restaurant Reviews by State',\n",
    "        geo_scope='usa', # limite map scope to USA\n",
    "    )\n",
    "\n",
    "    plotly.offline.plot(fig, filename=c+' map.html')"
   ]
  },
  {
   "cell_type": "code",
   "execution_count": 68,
   "id": "8e7ad4dc-d4f9-40e4-aa4a-b3cc58a00422",
   "metadata": {},
   "outputs": [
    {
     "ename": "AttributeError",
     "evalue": "'numpy.ndarray' object has no attribute 'remove'",
     "output_type": "error",
     "traceback": [
      "\u001b[1;31m---------------------------------------------------------------------------\u001b[0m",
      "\u001b[1;31mAttributeError\u001b[0m                            Traceback (most recent call last)",
      "\u001b[1;32m<ipython-input-68-976b5a67310d>\u001b[0m in \u001b[0;36m<module>\u001b[1;34m\u001b[0m\n\u001b[1;32m----> 1\u001b[1;33m \u001b[0mbdf\u001b[0m\u001b[1;33m[\u001b[0m\u001b[1;34m'categories'\u001b[0m\u001b[1;33m]\u001b[0m\u001b[1;33m.\u001b[0m\u001b[0mvalues\u001b[0m\u001b[1;33m.\u001b[0m\u001b[0mremove\u001b[0m\u001b[1;33m(\u001b[0m\u001b[1;34m'Restaurants'\u001b[0m\u001b[1;33m)\u001b[0m\u001b[1;33m\u001b[0m\u001b[1;33m\u001b[0m\u001b[0m\n\u001b[0m",
      "\u001b[1;31mAttributeError\u001b[0m: 'numpy.ndarray' object has no attribute 'remove'"
     ]
    }
   ],
   "source": [
    "bdf['categories'].remove('Restaurants')"
   ]
  },
  {
   "cell_type": "code",
   "execution_count": 73,
   "id": "e1ecd749-5b52-4d4f-854b-7afd06ad40bb",
   "metadata": {},
   "outputs": [
    {
     "name": "stdout",
     "output_type": "stream",
     "text": [
      "Assocation Rule applied on Chinese Restaurants\n",
      "[[OrderedStatistic(items_base=frozenset(), items_add=frozenset({'Chinese'}), confidence=1.0, lift=1.0)], [OrderedStatistic(items_base=frozenset(), items_add=frozenset({'Restaurants'}), confidence=1.0, lift=1.0)], [OrderedStatistic(items_base=frozenset({'Asian'}), items_add=frozenset({'Chinese'}), confidence=1.0, lift=1.0)], [OrderedStatistic(items_base=frozenset({'Asian'}), items_add=frozenset({'Fusion'}), confidence=0.9767441860465116, lift=6.142857142857142), OrderedStatistic(items_base=frozenset({'Fusion'}), items_add=frozenset({'Asian'}), confidence=1.0, lift=6.142857142857142)], [OrderedStatistic(items_base=frozenset({'Asian'}), items_add=frozenset({'Restaurants'}), confidence=1.0, lift=1.0)], [OrderedStatistic(items_base=frozenset({'Food'}), items_add=frozenset({'Chinese'}), confidence=1.0, lift=1.0)], [OrderedStatistic(items_base=frozenset({'Fusion'}), items_add=frozenset({'Chinese'}), confidence=1.0, lift=1.0)], [OrderedStatistic(items_base=frozenset(), items_add=frozenset({'Restaurants', 'Chinese'}), confidence=1.0, lift=1.0), OrderedStatistic(items_base=frozenset({'Chinese'}), items_add=frozenset({'Restaurants'}), confidence=1.0, lift=1.0), OrderedStatistic(items_base=frozenset({'Restaurants'}), items_add=frozenset({'Chinese'}), confidence=1.0, lift=1.0)], [OrderedStatistic(items_base=frozenset({'Food'}), items_add=frozenset({'Restaurants'}), confidence=1.0, lift=1.0)], [OrderedStatistic(items_base=frozenset({'Fusion'}), items_add=frozenset({'Restaurants'}), confidence=1.0, lift=1.0)], [OrderedStatistic(items_base=frozenset({'Asian'}), items_add=frozenset({'Fusion', 'Chinese'}), confidence=0.9767441860465116, lift=6.142857142857142), OrderedStatistic(items_base=frozenset({'Fusion'}), items_add=frozenset({'Asian', 'Chinese'}), confidence=1.0, lift=6.142857142857142), OrderedStatistic(items_base=frozenset({'Asian', 'Chinese'}), items_add=frozenset({'Fusion'}), confidence=0.9767441860465116, lift=6.142857142857142), OrderedStatistic(items_base=frozenset({'Fusion', 'Asian'}), items_add=frozenset({'Chinese'}), confidence=1.0, lift=1.0), OrderedStatistic(items_base=frozenset({'Fusion', 'Chinese'}), items_add=frozenset({'Asian'}), confidence=1.0, lift=6.142857142857142)], [OrderedStatistic(items_base=frozenset({'Asian'}), items_add=frozenset({'Restaurants', 'Chinese'}), confidence=1.0, lift=1.0), OrderedStatistic(items_base=frozenset({'Asian', 'Chinese'}), items_add=frozenset({'Restaurants'}), confidence=1.0, lift=1.0), OrderedStatistic(items_base=frozenset({'Asian', 'Restaurants'}), items_add=frozenset({'Chinese'}), confidence=1.0, lift=1.0)], [OrderedStatistic(items_base=frozenset({'Asian'}), items_add=frozenset({'Fusion', 'Restaurants'}), confidence=0.9767441860465116, lift=6.142857142857142), OrderedStatistic(items_base=frozenset({'Fusion'}), items_add=frozenset({'Asian', 'Restaurants'}), confidence=1.0, lift=6.142857142857142), OrderedStatistic(items_base=frozenset({'Fusion', 'Asian'}), items_add=frozenset({'Restaurants'}), confidence=1.0, lift=1.0), OrderedStatistic(items_base=frozenset({'Asian', 'Restaurants'}), items_add=frozenset({'Fusion'}), confidence=0.9767441860465116, lift=6.142857142857142), OrderedStatistic(items_base=frozenset({'Fusion', 'Restaurants'}), items_add=frozenset({'Asian'}), confidence=1.0, lift=6.142857142857142)], [OrderedStatistic(items_base=frozenset({'Food'}), items_add=frozenset({'Restaurants', 'Chinese'}), confidence=1.0, lift=1.0), OrderedStatistic(items_base=frozenset({'Food', 'Chinese'}), items_add=frozenset({'Restaurants'}), confidence=1.0, lift=1.0), OrderedStatistic(items_base=frozenset({'Restaurants', 'Food'}), items_add=frozenset({'Chinese'}), confidence=1.0, lift=1.0)], [OrderedStatistic(items_base=frozenset({'Fusion'}), items_add=frozenset({'Restaurants', 'Chinese'}), confidence=1.0, lift=1.0), OrderedStatistic(items_base=frozenset({'Fusion', 'Chinese'}), items_add=frozenset({'Restaurants'}), confidence=1.0, lift=1.0), OrderedStatistic(items_base=frozenset({'Fusion', 'Restaurants'}), items_add=frozenset({'Chinese'}), confidence=1.0, lift=1.0)], [OrderedStatistic(items_base=frozenset({'Asian'}), items_add=frozenset({'Fusion', 'Restaurants', 'Chinese'}), confidence=0.9767441860465116, lift=6.142857142857142), OrderedStatistic(items_base=frozenset({'Fusion'}), items_add=frozenset({'Asian', 'Restaurants', 'Chinese'}), confidence=1.0, lift=6.142857142857142), OrderedStatistic(items_base=frozenset({'Asian', 'Chinese'}), items_add=frozenset({'Fusion', 'Restaurants'}), confidence=0.9767441860465116, lift=6.142857142857142), OrderedStatistic(items_base=frozenset({'Fusion', 'Asian'}), items_add=frozenset({'Restaurants', 'Chinese'}), confidence=1.0, lift=1.0), OrderedStatistic(items_base=frozenset({'Asian', 'Restaurants'}), items_add=frozenset({'Fusion', 'Chinese'}), confidence=0.9767441860465116, lift=6.142857142857142), OrderedStatistic(items_base=frozenset({'Fusion', 'Chinese'}), items_add=frozenset({'Asian', 'Restaurants'}), confidence=1.0, lift=6.142857142857142), OrderedStatistic(items_base=frozenset({'Fusion', 'Restaurants'}), items_add=frozenset({'Asian', 'Chinese'}), confidence=1.0, lift=6.142857142857142), OrderedStatistic(items_base=frozenset({'Fusion', 'Asian', 'Chinese'}), items_add=frozenset({'Restaurants'}), confidence=1.0, lift=1.0), OrderedStatistic(items_base=frozenset({'Asian', 'Restaurants', 'Chinese'}), items_add=frozenset({'Fusion'}), confidence=0.9767441860465116, lift=6.142857142857142), OrderedStatistic(items_base=frozenset({'Fusion', 'Asian', 'Restaurants'}), items_add=frozenset({'Chinese'}), confidence=1.0, lift=1.0), OrderedStatistic(items_base=frozenset({'Fusion', 'Restaurants', 'Chinese'}), items_add=frozenset({'Asian'}), confidence=1.0, lift=6.142857142857142)]]\n",
      "\n",
      "Assocation Rule applied on Indian Restaurants\n",
      "[[OrderedStatistic(items_base=frozenset(), items_add=frozenset({'Indian'}), confidence=1.0, lift=1.0)], [OrderedStatistic(items_base=frozenset(), items_add=frozenset({'Restaurants'}), confidence=1.0, lift=1.0)], [OrderedStatistic(items_base=frozenset({'Food'}), items_add=frozenset({'Indian'}), confidence=1.0, lift=1.0)], [OrderedStatistic(items_base=frozenset({'Food'}), items_add=frozenset({'Restaurants'}), confidence=1.0, lift=1.0)], [OrderedStatistic(items_base=frozenset({'Halal'}), items_add=frozenset({'Indian'}), confidence=1.0, lift=1.0)], [OrderedStatistic(items_base=frozenset({'Halal'}), items_add=frozenset({'Restaurants'}), confidence=1.0, lift=1.0)], [OrderedStatistic(items_base=frozenset({'Pakistani'}), items_add=frozenset({'Indian'}), confidence=1.0, lift=1.0)], [OrderedStatistic(items_base=frozenset(), items_add=frozenset({'Indian', 'Restaurants'}), confidence=1.0, lift=1.0), OrderedStatistic(items_base=frozenset({'Indian'}), items_add=frozenset({'Restaurants'}), confidence=1.0, lift=1.0), OrderedStatistic(items_base=frozenset({'Restaurants'}), items_add=frozenset({'Indian'}), confidence=1.0, lift=1.0)], [OrderedStatistic(items_base=frozenset({'Vegetarian'}), items_add=frozenset({'Indian'}), confidence=1.0, lift=1.0)], [OrderedStatistic(items_base=frozenset({'Pakistani'}), items_add=frozenset({'Restaurants'}), confidence=1.0, lift=1.0)], [OrderedStatistic(items_base=frozenset({'Vegetarian'}), items_add=frozenset({'Restaurants'}), confidence=1.0, lift=1.0)], [OrderedStatistic(items_base=frozenset({'Food'}), items_add=frozenset({'Indian', 'Restaurants'}), confidence=1.0, lift=1.0), OrderedStatistic(items_base=frozenset({'Indian', 'Food'}), items_add=frozenset({'Restaurants'}), confidence=1.0, lift=1.0), OrderedStatistic(items_base=frozenset({'Restaurants', 'Food'}), items_add=frozenset({'Indian'}), confidence=1.0, lift=1.0)], [OrderedStatistic(items_base=frozenset({'Halal'}), items_add=frozenset({'Indian', 'Restaurants'}), confidence=1.0, lift=1.0), OrderedStatistic(items_base=frozenset({'Halal', 'Indian'}), items_add=frozenset({'Restaurants'}), confidence=1.0, lift=1.0), OrderedStatistic(items_base=frozenset({'Halal', 'Restaurants'}), items_add=frozenset({'Indian'}), confidence=1.0, lift=1.0)], [OrderedStatistic(items_base=frozenset({'Pakistani'}), items_add=frozenset({'Indian', 'Restaurants'}), confidence=1.0, lift=1.0), OrderedStatistic(items_base=frozenset({'Indian', 'Pakistani'}), items_add=frozenset({'Restaurants'}), confidence=1.0, lift=1.0), OrderedStatistic(items_base=frozenset({'Restaurants', 'Pakistani'}), items_add=frozenset({'Indian'}), confidence=1.0, lift=1.0)], [OrderedStatistic(items_base=frozenset({'Vegetarian'}), items_add=frozenset({'Indian', 'Restaurants'}), confidence=1.0, lift=1.0), OrderedStatistic(items_base=frozenset({'Vegetarian', 'Indian'}), items_add=frozenset({'Restaurants'}), confidence=1.0, lift=1.0), OrderedStatistic(items_base=frozenset({'Vegetarian', 'Restaurants'}), items_add=frozenset({'Indian'}), confidence=1.0, lift=1.0)]]\n",
      "\n",
      "Assocation Rule applied on Italian Restaurants\n",
      "[[OrderedStatistic(items_base=frozenset(), items_add=frozenset({'Italian'}), confidence=1.0, lift=1.0)], [OrderedStatistic(items_base=frozenset(), items_add=frozenset({'Restaurants'}), confidence=1.0, lift=1.0)], [OrderedStatistic(items_base=frozenset({'American'}), items_add=frozenset({'Italian'}), confidence=1.0, lift=1.0)], [OrderedStatistic(items_base=frozenset({'American'}), items_add=frozenset({'Restaurants'}), confidence=1.0, lift=1.0)], [OrderedStatistic(items_base=frozenset({'Bars'}), items_add=frozenset({'Italian'}), confidence=1.0, lift=1.0)], [OrderedStatistic(items_base=frozenset({'Bars'}), items_add=frozenset({'Nightlife'}), confidence=0.981954887218045, lift=5.184953534278173), OrderedStatistic(items_base=frozenset({'Nightlife'}), items_add=frozenset({'Bars'}), confidence=0.9631268436578171, lift=5.184953534278173)], [OrderedStatistic(items_base=frozenset({'Bars'}), items_add=frozenset({'Restaurants'}), confidence=1.0, lift=1.0)], [OrderedStatistic(items_base=frozenset({'Food'}), items_add=frozenset({'Italian'}), confidence=1.0, lift=1.0)], [OrderedStatistic(items_base=frozenset({'Food'}), items_add=frozenset({'Restaurants'}), confidence=1.0, lift=1.0)], [OrderedStatistic(items_base=frozenset({'Nightlife'}), items_add=frozenset({'Italian'}), confidence=1.0, lift=1.0)], [OrderedStatistic(items_base=frozenset({'Pizza'}), items_add=frozenset({'Italian'}), confidence=1.0, lift=1.0)], [OrderedStatistic(items_base=frozenset(), items_add=frozenset({'Italian', 'Restaurants'}), confidence=1.0, lift=1.0), OrderedStatistic(items_base=frozenset({'Italian'}), items_add=frozenset({'Restaurants'}), confidence=1.0, lift=1.0), OrderedStatistic(items_base=frozenset({'Restaurants'}), items_add=frozenset({'Italian'}), confidence=1.0, lift=1.0)], [OrderedStatistic(items_base=frozenset({'Sandwiches'}), items_add=frozenset({'Italian'}), confidence=1.0, lift=1.0)], [OrderedStatistic(items_base=frozenset({'Wine'}), items_add=frozenset({'Italian'}), confidence=1.0, lift=1.0)], [OrderedStatistic(items_base=frozenset({'Nightlife'}), items_add=frozenset({'Restaurants'}), confidence=1.0, lift=1.0)], [OrderedStatistic(items_base=frozenset({'Pizza'}), items_add=frozenset({'Restaurants'}), confidence=1.0, lift=1.0)], [OrderedStatistic(items_base=frozenset({'Sandwiches'}), items_add=frozenset({'Restaurants'}), confidence=1.0, lift=1.0)], [OrderedStatistic(items_base=frozenset({'Wine'}), items_add=frozenset({'Restaurants'}), confidence=1.0, lift=1.0)], [OrderedStatistic(items_base=frozenset({'American'}), items_add=frozenset({'Italian', 'Restaurants'}), confidence=1.0, lift=1.0), OrderedStatistic(items_base=frozenset({'American', 'Italian'}), items_add=frozenset({'Restaurants'}), confidence=1.0, lift=1.0), OrderedStatistic(items_base=frozenset({'American', 'Restaurants'}), items_add=frozenset({'Italian'}), confidence=1.0, lift=1.0)], [OrderedStatistic(items_base=frozenset({'Bars'}), items_add=frozenset({'Italian', 'Nightlife'}), confidence=0.981954887218045, lift=5.184953534278173), OrderedStatistic(items_base=frozenset({'Nightlife'}), items_add=frozenset({'Bars', 'Italian'}), confidence=0.9631268436578171, lift=5.184953534278173), OrderedStatistic(items_base=frozenset({'Bars', 'Italian'}), items_add=frozenset({'Nightlife'}), confidence=0.981954887218045, lift=5.184953534278173), OrderedStatistic(items_base=frozenset({'Bars', 'Nightlife'}), items_add=frozenset({'Italian'}), confidence=1.0, lift=1.0), OrderedStatistic(items_base=frozenset({'Italian', 'Nightlife'}), items_add=frozenset({'Bars'}), confidence=0.9631268436578171, lift=5.184953534278173)], [OrderedStatistic(items_base=frozenset({'Bars'}), items_add=frozenset({'Italian', 'Restaurants'}), confidence=1.0, lift=1.0), OrderedStatistic(items_base=frozenset({'Bars', 'Italian'}), items_add=frozenset({'Restaurants'}), confidence=1.0, lift=1.0), OrderedStatistic(items_base=frozenset({'Bars', 'Restaurants'}), items_add=frozenset({'Italian'}), confidence=1.0, lift=1.0)], [OrderedStatistic(items_base=frozenset({'Bars'}), items_add=frozenset({'Nightlife', 'Restaurants'}), confidence=0.981954887218045, lift=5.184953534278173), OrderedStatistic(items_base=frozenset({'Nightlife'}), items_add=frozenset({'Bars', 'Restaurants'}), confidence=0.9631268436578171, lift=5.184953534278173), OrderedStatistic(items_base=frozenset({'Bars', 'Nightlife'}), items_add=frozenset({'Restaurants'}), confidence=1.0, lift=1.0), OrderedStatistic(items_base=frozenset({'Bars', 'Restaurants'}), items_add=frozenset({'Nightlife'}), confidence=0.981954887218045, lift=5.184953534278173), OrderedStatistic(items_base=frozenset({'Nightlife', 'Restaurants'}), items_add=frozenset({'Bars'}), confidence=0.9631268436578171, lift=5.184953534278173)], [OrderedStatistic(items_base=frozenset({'Pizza', 'Food'}), items_add=frozenset({'Italian'}), confidence=1.0, lift=1.0)], [OrderedStatistic(items_base=frozenset({'Food'}), items_add=frozenset({'Italian', 'Restaurants'}), confidence=1.0, lift=1.0), OrderedStatistic(items_base=frozenset({'Italian', 'Food'}), items_add=frozenset({'Restaurants'}), confidence=1.0, lift=1.0), OrderedStatistic(items_base=frozenset({'Restaurants', 'Food'}), items_add=frozenset({'Italian'}), confidence=1.0, lift=1.0)], [OrderedStatistic(items_base=frozenset({'Pizza', 'Food'}), items_add=frozenset({'Restaurants'}), confidence=1.0, lift=1.0)], [OrderedStatistic(items_base=frozenset({'Nightlife'}), items_add=frozenset({'Italian', 'Restaurants'}), confidence=1.0, lift=1.0), OrderedStatistic(items_base=frozenset({'Italian', 'Nightlife'}), items_add=frozenset({'Restaurants'}), confidence=1.0, lift=1.0), OrderedStatistic(items_base=frozenset({'Nightlife', 'Restaurants'}), items_add=frozenset({'Italian'}), confidence=1.0, lift=1.0)], [OrderedStatistic(items_base=frozenset({'Pizza'}), items_add=frozenset({'Italian', 'Restaurants'}), confidence=1.0, lift=1.0), OrderedStatistic(items_base=frozenset({'Italian', 'Pizza'}), items_add=frozenset({'Restaurants'}), confidence=1.0, lift=1.0), OrderedStatistic(items_base=frozenset({'Restaurants', 'Pizza'}), items_add=frozenset({'Italian'}), confidence=1.0, lift=1.0)], [OrderedStatistic(items_base=frozenset({'Sandwiches'}), items_add=frozenset({'Italian', 'Restaurants'}), confidence=1.0, lift=1.0), OrderedStatistic(items_base=frozenset({'Sandwiches', 'Italian'}), items_add=frozenset({'Restaurants'}), confidence=1.0, lift=1.0), OrderedStatistic(items_base=frozenset({'Sandwiches', 'Restaurants'}), items_add=frozenset({'Italian'}), confidence=1.0, lift=1.0)], [OrderedStatistic(items_base=frozenset({'Wine'}), items_add=frozenset({'Italian', 'Restaurants'}), confidence=1.0, lift=1.0), OrderedStatistic(items_base=frozenset({'Italian', 'Wine'}), items_add=frozenset({'Restaurants'}), confidence=1.0, lift=1.0), OrderedStatistic(items_base=frozenset({'Restaurants', 'Wine'}), items_add=frozenset({'Italian'}), confidence=1.0, lift=1.0)], [OrderedStatistic(items_base=frozenset({'Bars'}), items_add=frozenset({'Italian', 'Restaurants', 'Nightlife'}), confidence=0.981954887218045, lift=5.184953534278173), OrderedStatistic(items_base=frozenset({'Nightlife'}), items_add=frozenset({'Bars', 'Italian', 'Restaurants'}), confidence=0.9631268436578171, lift=5.184953534278173), OrderedStatistic(items_base=frozenset({'Bars', 'Italian'}), items_add=frozenset({'Nightlife', 'Restaurants'}), confidence=0.981954887218045, lift=5.184953534278173), OrderedStatistic(items_base=frozenset({'Bars', 'Nightlife'}), items_add=frozenset({'Italian', 'Restaurants'}), confidence=1.0, lift=1.0), OrderedStatistic(items_base=frozenset({'Bars', 'Restaurants'}), items_add=frozenset({'Italian', 'Nightlife'}), confidence=0.981954887218045, lift=5.184953534278173), OrderedStatistic(items_base=frozenset({'Italian', 'Nightlife'}), items_add=frozenset({'Bars', 'Restaurants'}), confidence=0.9631268436578171, lift=5.184953534278173), OrderedStatistic(items_base=frozenset({'Nightlife', 'Restaurants'}), items_add=frozenset({'Bars', 'Italian'}), confidence=0.9631268436578171, lift=5.184953534278173), OrderedStatistic(items_base=frozenset({'Bars', 'Italian', 'Nightlife'}), items_add=frozenset({'Restaurants'}), confidence=1.0, lift=1.0), OrderedStatistic(items_base=frozenset({'Bars', 'Italian', 'Restaurants'}), items_add=frozenset({'Nightlife'}), confidence=0.981954887218045, lift=5.184953534278173), OrderedStatistic(items_base=frozenset({'Bars', 'Nightlife', 'Restaurants'}), items_add=frozenset({'Italian'}), confidence=1.0, lift=1.0), OrderedStatistic(items_base=frozenset({'Restaurants', 'Italian', 'Nightlife'}), items_add=frozenset({'Bars'}), confidence=0.9631268436578171, lift=5.184953534278173)], [OrderedStatistic(items_base=frozenset({'Pizza', 'Food'}), items_add=frozenset({'Italian', 'Restaurants'}), confidence=1.0, lift=1.0), OrderedStatistic(items_base=frozenset({'Pizza', 'Italian', 'Food'}), items_add=frozenset({'Restaurants'}), confidence=1.0, lift=1.0), OrderedStatistic(items_base=frozenset({'Restaurants', 'Pizza', 'Food'}), items_add=frozenset({'Italian'}), confidence=1.0, lift=1.0)]]\n",
      "\n",
      "Assocation Rule applied on Korean Restaurants\n",
      "[[OrderedStatistic(items_base=frozenset(), items_add=frozenset({'Korean'}), confidence=1.0, lift=1.0)], [OrderedStatistic(items_base=frozenset(), items_add=frozenset({'Restaurants'}), confidence=1.0, lift=1.0)], [OrderedStatistic(items_base=frozenset({'Asian'}), items_add=frozenset({'Fusion'}), confidence=0.976525821596244, lift=3.9107981220657275), OrderedStatistic(items_base=frozenset({'Fusion'}), items_add=frozenset({'Asian'}), confidence=1.0, lift=3.9107981220657275)], [OrderedStatistic(items_base=frozenset({'Asian'}), items_add=frozenset({'Korean'}), confidence=1.0, lift=1.0)], [OrderedStatistic(items_base=frozenset({'Asian'}), items_add=frozenset({'Restaurants'}), confidence=1.0, lift=1.0)], [OrderedStatistic(items_base=frozenset({'Barbeque'}), items_add=frozenset({'Korean'}), confidence=1.0, lift=1.0)], [OrderedStatistic(items_base=frozenset({'Barbeque'}), items_add=frozenset({'Restaurants'}), confidence=1.0, lift=1.0)], [OrderedStatistic(items_base=frozenset({'Bars'}), items_add=frozenset({'Korean'}), confidence=1.0, lift=1.0)], [OrderedStatistic(items_base=frozenset({'Bars'}), items_add=frozenset({'Restaurants'}), confidence=1.0, lift=1.0)], [OrderedStatistic(items_base=frozenset({'Sushi'}), items_add=frozenset({'Bars'}), confidence=1.0, lift=5.238993710691823)], [OrderedStatistic(items_base=frozenset({'Chinese'}), items_add=frozenset({'Korean'}), confidence=1.0, lift=1.0)], [OrderedStatistic(items_base=frozenset({'Chinese'}), items_add=frozenset({'Restaurants'}), confidence=1.0, lift=1.0)], [OrderedStatistic(items_base=frozenset({'Food'}), items_add=frozenset({'Korean'}), confidence=1.0, lift=1.0)], [OrderedStatistic(items_base=frozenset({'Food'}), items_add=frozenset({'Restaurants'}), confidence=1.0, lift=1.0)], [OrderedStatistic(items_base=frozenset({'Fusion'}), items_add=frozenset({'Korean'}), confidence=1.0, lift=1.0)], [OrderedStatistic(items_base=frozenset({'Fusion'}), items_add=frozenset({'Restaurants'}), confidence=1.0, lift=1.0)], [OrderedStatistic(items_base=frozenset({'Japanese'}), items_add=frozenset({'Korean'}), confidence=1.0, lift=1.0)], [OrderedStatistic(items_base=frozenset({'Japanese'}), items_add=frozenset({'Restaurants'}), confidence=1.0, lift=1.0)], [OrderedStatistic(items_base=frozenset(), items_add=frozenset({'Korean', 'Restaurants'}), confidence=1.0, lift=1.0), OrderedStatistic(items_base=frozenset({'Korean'}), items_add=frozenset({'Restaurants'}), confidence=1.0, lift=1.0), OrderedStatistic(items_base=frozenset({'Restaurants'}), items_add=frozenset({'Korean'}), confidence=1.0, lift=1.0)], [OrderedStatistic(items_base=frozenset({'Sushi'}), items_add=frozenset({'Korean'}), confidence=1.0, lift=1.0)], [OrderedStatistic(items_base=frozenset({'Sushi'}), items_add=frozenset({'Restaurants'}), confidence=1.0, lift=1.0)], [OrderedStatistic(items_base=frozenset({'Asian'}), items_add=frozenset({'Korean', 'Fusion'}), confidence=0.976525821596244, lift=3.9107981220657275), OrderedStatistic(items_base=frozenset({'Fusion'}), items_add=frozenset({'Korean', 'Asian'}), confidence=1.0, lift=3.9107981220657275), OrderedStatistic(items_base=frozenset({'Fusion', 'Asian'}), items_add=frozenset({'Korean'}), confidence=1.0, lift=1.0), OrderedStatistic(items_base=frozenset({'Korean', 'Asian'}), items_add=frozenset({'Fusion'}), confidence=0.976525821596244, lift=3.9107981220657275), OrderedStatistic(items_base=frozenset({'Korean', 'Fusion'}), items_add=frozenset({'Asian'}), confidence=1.0, lift=3.9107981220657275)], [OrderedStatistic(items_base=frozenset({'Asian'}), items_add=frozenset({'Fusion', 'Restaurants'}), confidence=0.976525821596244, lift=3.9107981220657275), OrderedStatistic(items_base=frozenset({'Fusion'}), items_add=frozenset({'Asian', 'Restaurants'}), confidence=1.0, lift=3.9107981220657275), OrderedStatistic(items_base=frozenset({'Fusion', 'Asian'}), items_add=frozenset({'Restaurants'}), confidence=1.0, lift=1.0), OrderedStatistic(items_base=frozenset({'Asian', 'Restaurants'}), items_add=frozenset({'Fusion'}), confidence=0.976525821596244, lift=3.9107981220657275), OrderedStatistic(items_base=frozenset({'Fusion', 'Restaurants'}), items_add=frozenset({'Asian'}), confidence=1.0, lift=3.9107981220657275)], [OrderedStatistic(items_base=frozenset({'Asian'}), items_add=frozenset({'Korean', 'Restaurants'}), confidence=1.0, lift=1.0), OrderedStatistic(items_base=frozenset({'Korean', 'Asian'}), items_add=frozenset({'Restaurants'}), confidence=1.0, lift=1.0), OrderedStatistic(items_base=frozenset({'Asian', 'Restaurants'}), items_add=frozenset({'Korean'}), confidence=1.0, lift=1.0)], [OrderedStatistic(items_base=frozenset({'Barbeque'}), items_add=frozenset({'Korean', 'Restaurants'}), confidence=1.0, lift=1.0), OrderedStatistic(items_base=frozenset({'Barbeque', 'Korean'}), items_add=frozenset({'Restaurants'}), confidence=1.0, lift=1.0), OrderedStatistic(items_base=frozenset({'Barbeque', 'Restaurants'}), items_add=frozenset({'Korean'}), confidence=1.0, lift=1.0)], [OrderedStatistic(items_base=frozenset({'Bars'}), items_add=frozenset({'Korean', 'Restaurants'}), confidence=1.0, lift=1.0), OrderedStatistic(items_base=frozenset({'Bars', 'Korean'}), items_add=frozenset({'Restaurants'}), confidence=1.0, lift=1.0), OrderedStatistic(items_base=frozenset({'Bars', 'Restaurants'}), items_add=frozenset({'Korean'}), confidence=1.0, lift=1.0)], [OrderedStatistic(items_base=frozenset({'Sushi'}), items_add=frozenset({'Bars', 'Korean'}), confidence=1.0, lift=5.238993710691823), OrderedStatistic(items_base=frozenset({'Bars', 'Sushi'}), items_add=frozenset({'Korean'}), confidence=1.0, lift=1.0), OrderedStatistic(items_base=frozenset({'Sushi', 'Korean'}), items_add=frozenset({'Bars'}), confidence=1.0, lift=5.238993710691823)], [OrderedStatistic(items_base=frozenset({'Sushi'}), items_add=frozenset({'Bars', 'Restaurants'}), confidence=1.0, lift=5.238993710691823), OrderedStatistic(items_base=frozenset({'Bars', 'Sushi'}), items_add=frozenset({'Restaurants'}), confidence=1.0, lift=1.0), OrderedStatistic(items_base=frozenset({'Sushi', 'Restaurants'}), items_add=frozenset({'Bars'}), confidence=1.0, lift=5.238993710691823)], [OrderedStatistic(items_base=frozenset({'Chinese'}), items_add=frozenset({'Korean', 'Restaurants'}), confidence=1.0, lift=1.0), OrderedStatistic(items_base=frozenset({'Korean', 'Chinese'}), items_add=frozenset({'Restaurants'}), confidence=1.0, lift=1.0), OrderedStatistic(items_base=frozenset({'Restaurants', 'Chinese'}), items_add=frozenset({'Korean'}), confidence=1.0, lift=1.0)], [OrderedStatistic(items_base=frozenset({'Food'}), items_add=frozenset({'Korean', 'Restaurants'}), confidence=1.0, lift=1.0), OrderedStatistic(items_base=frozenset({'Korean', 'Food'}), items_add=frozenset({'Restaurants'}), confidence=1.0, lift=1.0), OrderedStatistic(items_base=frozenset({'Restaurants', 'Food'}), items_add=frozenset({'Korean'}), confidence=1.0, lift=1.0)], [OrderedStatistic(items_base=frozenset({'Fusion'}), items_add=frozenset({'Korean', 'Restaurants'}), confidence=1.0, lift=1.0), OrderedStatistic(items_base=frozenset({'Korean', 'Fusion'}), items_add=frozenset({'Restaurants'}), confidence=1.0, lift=1.0), OrderedStatistic(items_base=frozenset({'Fusion', 'Restaurants'}), items_add=frozenset({'Korean'}), confidence=1.0, lift=1.0)], [OrderedStatistic(items_base=frozenset({'Japanese'}), items_add=frozenset({'Korean', 'Restaurants'}), confidence=1.0, lift=1.0), OrderedStatistic(items_base=frozenset({'Korean', 'Japanese'}), items_add=frozenset({'Restaurants'}), confidence=1.0, lift=1.0), OrderedStatistic(items_base=frozenset({'Japanese', 'Restaurants'}), items_add=frozenset({'Korean'}), confidence=1.0, lift=1.0)], [OrderedStatistic(items_base=frozenset({'Sushi'}), items_add=frozenset({'Korean', 'Restaurants'}), confidence=1.0, lift=1.0), OrderedStatistic(items_base=frozenset({'Sushi', 'Korean'}), items_add=frozenset({'Restaurants'}), confidence=1.0, lift=1.0), OrderedStatistic(items_base=frozenset({'Sushi', 'Restaurants'}), items_add=frozenset({'Korean'}), confidence=1.0, lift=1.0)], [OrderedStatistic(items_base=frozenset({'Asian'}), items_add=frozenset({'Korean', 'Fusion', 'Restaurants'}), confidence=0.976525821596244, lift=3.9107981220657275), OrderedStatistic(items_base=frozenset({'Fusion'}), items_add=frozenset({'Korean', 'Asian', 'Restaurants'}), confidence=1.0, lift=3.9107981220657275), OrderedStatistic(items_base=frozenset({'Fusion', 'Asian'}), items_add=frozenset({'Korean', 'Restaurants'}), confidence=1.0, lift=1.0), OrderedStatistic(items_base=frozenset({'Korean', 'Asian'}), items_add=frozenset({'Fusion', 'Restaurants'}), confidence=0.976525821596244, lift=3.9107981220657275), OrderedStatistic(items_base=frozenset({'Asian', 'Restaurants'}), items_add=frozenset({'Korean', 'Fusion'}), confidence=0.976525821596244, lift=3.9107981220657275), OrderedStatistic(items_base=frozenset({'Korean', 'Fusion'}), items_add=frozenset({'Asian', 'Restaurants'}), confidence=1.0, lift=3.9107981220657275), OrderedStatistic(items_base=frozenset({'Fusion', 'Restaurants'}), items_add=frozenset({'Korean', 'Asian'}), confidence=1.0, lift=3.9107981220657275), OrderedStatistic(items_base=frozenset({'Korean', 'Fusion', 'Asian'}), items_add=frozenset({'Restaurants'}), confidence=1.0, lift=1.0), OrderedStatistic(items_base=frozenset({'Fusion', 'Asian', 'Restaurants'}), items_add=frozenset({'Korean'}), confidence=1.0, lift=1.0), OrderedStatistic(items_base=frozenset({'Korean', 'Asian', 'Restaurants'}), items_add=frozenset({'Fusion'}), confidence=0.976525821596244, lift=3.9107981220657275), OrderedStatistic(items_base=frozenset({'Korean', 'Fusion', 'Restaurants'}), items_add=frozenset({'Asian'}), confidence=1.0, lift=3.9107981220657275)], [OrderedStatistic(items_base=frozenset({'Sushi'}), items_add=frozenset({'Bars', 'Korean', 'Restaurants'}), confidence=1.0, lift=5.238993710691823), OrderedStatistic(items_base=frozenset({'Bars', 'Sushi'}), items_add=frozenset({'Korean', 'Restaurants'}), confidence=1.0, lift=1.0), OrderedStatistic(items_base=frozenset({'Sushi', 'Korean'}), items_add=frozenset({'Bars', 'Restaurants'}), confidence=1.0, lift=5.238993710691823), OrderedStatistic(items_base=frozenset({'Sushi', 'Restaurants'}), items_add=frozenset({'Bars', 'Korean'}), confidence=1.0, lift=5.238993710691823), OrderedStatistic(items_base=frozenset({'Bars', 'Sushi', 'Korean'}), items_add=frozenset({'Restaurants'}), confidence=1.0, lift=1.0), OrderedStatistic(items_base=frozenset({'Bars', 'Sushi', 'Restaurants'}), items_add=frozenset({'Korean'}), confidence=1.0, lift=1.0), OrderedStatistic(items_base=frozenset({'Sushi', 'Korean', 'Restaurants'}), items_add=frozenset({'Bars'}), confidence=1.0, lift=5.238993710691823)]]\n",
      "\n",
      "Assocation Rule applied on Thai Restaurants\n",
      "[[OrderedStatistic(items_base=frozenset(), items_add=frozenset({'Restaurants'}), confidence=1.0, lift=1.0)], [OrderedStatistic(items_base=frozenset(), items_add=frozenset({'Thai'}), confidence=1.0, lift=1.0)], [OrderedStatistic(items_base=frozenset({'Asian'}), items_add=frozenset({'Fusion'}), confidence=0.9681274900398407, lift=5.430278884462152), OrderedStatistic(items_base=frozenset({'Fusion'}), items_add=frozenset({'Asian'}), confidence=1.0, lift=5.430278884462152)], [OrderedStatistic(items_base=frozenset({'Asian'}), items_add=frozenset({'Restaurants'}), confidence=1.0, lift=1.0)], [OrderedStatistic(items_base=frozenset({'Asian'}), items_add=frozenset({'Thai'}), confidence=1.0, lift=1.0)], [OrderedStatistic(items_base=frozenset({'Bars'}), items_add=frozenset({'Restaurants'}), confidence=1.0, lift=1.0)], [OrderedStatistic(items_base=frozenset({'Bars'}), items_add=frozenset({'Thai'}), confidence=1.0, lift=1.0)], [OrderedStatistic(items_base=frozenset({'Chinese'}), items_add=frozenset({'Restaurants'}), confidence=1.0, lift=1.0)], [OrderedStatistic(items_base=frozenset({'Chinese'}), items_add=frozenset({'Thai'}), confidence=1.0, lift=1.0)], [OrderedStatistic(items_base=frozenset({'Food'}), items_add=frozenset({'Restaurants'}), confidence=1.0, lift=1.0)], [OrderedStatistic(items_base=frozenset({'Food'}), items_add=frozenset({'Thai'}), confidence=1.0, lift=1.0)], [OrderedStatistic(items_base=frozenset({'Fusion'}), items_add=frozenset({'Restaurants'}), confidence=1.0, lift=1.0)], [OrderedStatistic(items_base=frozenset({'Fusion'}), items_add=frozenset({'Thai'}), confidence=1.0, lift=1.0)], [OrderedStatistic(items_base=frozenset(), items_add=frozenset({'Thai', 'Restaurants'}), confidence=1.0, lift=1.0), OrderedStatistic(items_base=frozenset({'Restaurants'}), items_add=frozenset({'Thai'}), confidence=1.0, lift=1.0), OrderedStatistic(items_base=frozenset({'Thai'}), items_add=frozenset({'Restaurants'}), confidence=1.0, lift=1.0)], [OrderedStatistic(items_base=frozenset({'Vietnamese'}), items_add=frozenset({'Restaurants'}), confidence=1.0, lift=1.0)], [OrderedStatistic(items_base=frozenset({'Vietnamese'}), items_add=frozenset({'Thai'}), confidence=1.0, lift=1.0)], [OrderedStatistic(items_base=frozenset({'Asian'}), items_add=frozenset({'Fusion', 'Restaurants'}), confidence=0.9681274900398407, lift=5.430278884462152), OrderedStatistic(items_base=frozenset({'Fusion'}), items_add=frozenset({'Asian', 'Restaurants'}), confidence=1.0, lift=5.430278884462152), OrderedStatistic(items_base=frozenset({'Fusion', 'Asian'}), items_add=frozenset({'Restaurants'}), confidence=1.0, lift=1.0), OrderedStatistic(items_base=frozenset({'Asian', 'Restaurants'}), items_add=frozenset({'Fusion'}), confidence=0.9681274900398407, lift=5.430278884462152), OrderedStatistic(items_base=frozenset({'Fusion', 'Restaurants'}), items_add=frozenset({'Asian'}), confidence=1.0, lift=5.430278884462152)], [OrderedStatistic(items_base=frozenset({'Asian'}), items_add=frozenset({'Thai', 'Fusion'}), confidence=0.9681274900398407, lift=5.430278884462152), OrderedStatistic(items_base=frozenset({'Fusion'}), items_add=frozenset({'Thai', 'Asian'}), confidence=1.0, lift=5.430278884462152), OrderedStatistic(items_base=frozenset({'Fusion', 'Asian'}), items_add=frozenset({'Thai'}), confidence=1.0, lift=1.0), OrderedStatistic(items_base=frozenset({'Thai', 'Asian'}), items_add=frozenset({'Fusion'}), confidence=0.9681274900398407, lift=5.430278884462152), OrderedStatistic(items_base=frozenset({'Thai', 'Fusion'}), items_add=frozenset({'Asian'}), confidence=1.0, lift=5.430278884462152)], [OrderedStatistic(items_base=frozenset({'Asian'}), items_add=frozenset({'Thai', 'Restaurants'}), confidence=1.0, lift=1.0), OrderedStatistic(items_base=frozenset({'Asian', 'Restaurants'}), items_add=frozenset({'Thai'}), confidence=1.0, lift=1.0), OrderedStatistic(items_base=frozenset({'Thai', 'Asian'}), items_add=frozenset({'Restaurants'}), confidence=1.0, lift=1.0)], [OrderedStatistic(items_base=frozenset({'Bars'}), items_add=frozenset({'Thai', 'Restaurants'}), confidence=1.0, lift=1.0), OrderedStatistic(items_base=frozenset({'Bars', 'Restaurants'}), items_add=frozenset({'Thai'}), confidence=1.0, lift=1.0), OrderedStatistic(items_base=frozenset({'Thai', 'Bars'}), items_add=frozenset({'Restaurants'}), confidence=1.0, lift=1.0)], [OrderedStatistic(items_base=frozenset({'Chinese'}), items_add=frozenset({'Thai', 'Restaurants'}), confidence=1.0, lift=1.0), OrderedStatistic(items_base=frozenset({'Restaurants', 'Chinese'}), items_add=frozenset({'Thai'}), confidence=1.0, lift=1.0), OrderedStatistic(items_base=frozenset({'Thai', 'Chinese'}), items_add=frozenset({'Restaurants'}), confidence=1.0, lift=1.0)], [OrderedStatistic(items_base=frozenset({'Food'}), items_add=frozenset({'Thai', 'Restaurants'}), confidence=1.0, lift=1.0), OrderedStatistic(items_base=frozenset({'Restaurants', 'Food'}), items_add=frozenset({'Thai'}), confidence=1.0, lift=1.0), OrderedStatistic(items_base=frozenset({'Thai', 'Food'}), items_add=frozenset({'Restaurants'}), confidence=1.0, lift=1.0)], [OrderedStatistic(items_base=frozenset({'Fusion'}), items_add=frozenset({'Thai', 'Restaurants'}), confidence=1.0, lift=1.0), OrderedStatistic(items_base=frozenset({'Fusion', 'Restaurants'}), items_add=frozenset({'Thai'}), confidence=1.0, lift=1.0), OrderedStatistic(items_base=frozenset({'Thai', 'Fusion'}), items_add=frozenset({'Restaurants'}), confidence=1.0, lift=1.0)], [OrderedStatistic(items_base=frozenset({'Vietnamese'}), items_add=frozenset({'Thai', 'Restaurants'}), confidence=1.0, lift=1.0), OrderedStatistic(items_base=frozenset({'Vietnamese', 'Restaurants'}), items_add=frozenset({'Thai'}), confidence=1.0, lift=1.0), OrderedStatistic(items_base=frozenset({'Thai', 'Vietnamese'}), items_add=frozenset({'Restaurants'}), confidence=1.0, lift=1.0)], [OrderedStatistic(items_base=frozenset({'Asian'}), items_add=frozenset({'Thai', 'Fusion', 'Restaurants'}), confidence=0.9681274900398407, lift=5.430278884462152), OrderedStatistic(items_base=frozenset({'Fusion'}), items_add=frozenset({'Thai', 'Asian', 'Restaurants'}), confidence=1.0, lift=5.430278884462152), OrderedStatistic(items_base=frozenset({'Fusion', 'Asian'}), items_add=frozenset({'Thai', 'Restaurants'}), confidence=1.0, lift=1.0), OrderedStatistic(items_base=frozenset({'Asian', 'Restaurants'}), items_add=frozenset({'Thai', 'Fusion'}), confidence=0.9681274900398407, lift=5.430278884462152), OrderedStatistic(items_base=frozenset({'Thai', 'Asian'}), items_add=frozenset({'Fusion', 'Restaurants'}), confidence=0.9681274900398407, lift=5.430278884462152), OrderedStatistic(items_base=frozenset({'Fusion', 'Restaurants'}), items_add=frozenset({'Thai', 'Asian'}), confidence=1.0, lift=5.430278884462152), OrderedStatistic(items_base=frozenset({'Thai', 'Fusion'}), items_add=frozenset({'Asian', 'Restaurants'}), confidence=1.0, lift=5.430278884462152), OrderedStatistic(items_base=frozenset({'Fusion', 'Asian', 'Restaurants'}), items_add=frozenset({'Thai'}), confidence=1.0, lift=1.0), OrderedStatistic(items_base=frozenset({'Thai', 'Fusion', 'Asian'}), items_add=frozenset({'Restaurants'}), confidence=1.0, lift=1.0), OrderedStatistic(items_base=frozenset({'Thai', 'Asian', 'Restaurants'}), items_add=frozenset({'Fusion'}), confidence=0.9681274900398407, lift=5.430278884462152), OrderedStatistic(items_base=frozenset({'Thai', 'Fusion', 'Restaurants'}), items_add=frozenset({'Asian'}), confidence=1.0, lift=5.430278884462152)]]\n",
      "\n"
     ]
    }
   ],
   "source": [
    "for c in cuis[1:]:\n",
    "    cats = bdf[(bdf['is_restaurant'])&(bdf[c])]['categories'].dropna()\n",
    "    l = [re.findall('[a-zA-z]+', s) for s in cats]\n",
    "    rules = list(apriori(l, min_support = .1, min_confidence = .7, min_lift = 1, min_length = 1))\n",
    "    print('Assocation Rule applied on '+c+' Restaurants')\n",
    "    print([rules[i][2] for i in range(len(rules))])\n",
    "    print()"
   ]
  }
 ],
 "metadata": {
  "kernelspec": {
   "display_name": "Python 3",
   "language": "python",
   "name": "python3"
  },
  "language_info": {
   "codemirror_mode": {
    "name": "ipython",
    "version": 3
   },
   "file_extension": ".py",
   "mimetype": "text/x-python",
   "name": "python",
   "nbconvert_exporter": "python",
   "pygments_lexer": "ipython3",
   "version": "3.7.10"
  }
 },
 "nbformat": 4,
 "nbformat_minor": 5
}
